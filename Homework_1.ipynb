{
  "cells": [
    {
      "cell_type": "markdown",
      "metadata": {
        "id": "view-in-github",
        "colab_type": "text"
      },
      "source": [
        "<a href=\"https://colab.research.google.com/github/FranciscoMessina00/HomeworkCMRM2023/blob/main/Homework_1.ipynb\" target=\"_parent\"><img src=\"https://colab.research.google.com/assets/colab-badge.svg\" alt=\"Open In Colab\"/></a>"
      ]
    },
    {
      "cell_type": "markdown",
      "id": "04ca6994",
      "metadata": {
        "id": "04ca6994"
      },
      "source": [
        "# CMRM Homework Assignment No. 1 (HW1)"
      ]
    },
    {
      "cell_type": "code",
      "execution_count": 1,
      "id": "fdf08027",
      "metadata": {
        "scrolled": true,
        "colab": {
          "base_uri": "https://localhost:8080/"
        },
        "id": "fdf08027",
        "outputId": "e7bc82d5-994a-4393-a417-d484fe9006d4"
      },
      "outputs": [
        {
          "output_type": "stream",
          "name": "stdout",
          "text": [
            "Collecting deeplake\n",
            "  Downloading deeplake-3.8.4.tar.gz (574 kB)\n",
            "\u001b[?25l     \u001b[90m━━━━━━━━━━━━━━━━━━━━━━━━━━━━━━━━━━━━━━━━\u001b[0m \u001b[32m0.0/574.5 kB\u001b[0m \u001b[31m?\u001b[0m eta \u001b[36m-:--:--\u001b[0m\r\u001b[2K     \u001b[91m━━━━━━━\u001b[0m\u001b[91m╸\u001b[0m\u001b[90m━━━━━━━━━━━━━━━━━━━━━━━━━━━━━━━━\u001b[0m \u001b[32m112.6/574.5 kB\u001b[0m \u001b[31m3.2 MB/s\u001b[0m eta \u001b[36m0:00:01\u001b[0m\r\u001b[2K     \u001b[90m━━━━━━━━━━━━━━━━━━━━━━━━━━━━━━━━━━━━━━━━\u001b[0m \u001b[32m574.5/574.5 kB\u001b[0m \u001b[31m8.2 MB/s\u001b[0m eta \u001b[36m0:00:00\u001b[0m\n",
            "\u001b[?25h  Installing build dependencies ... \u001b[?25l\u001b[?25hdone\n",
            "  Getting requirements to build wheel ... \u001b[?25l\u001b[?25hdone\n",
            "  Preparing metadata (pyproject.toml) ... \u001b[?25l\u001b[?25hdone\n",
            "Requirement already satisfied: numpy in /usr/local/lib/python3.10/dist-packages (from deeplake) (1.23.5)\n",
            "Requirement already satisfied: pillow in /usr/local/lib/python3.10/dist-packages (from deeplake) (9.4.0)\n",
            "Collecting boto3 (from deeplake)\n",
            "  Downloading boto3-1.28.79-py3-none-any.whl (135 kB)\n",
            "\u001b[2K     \u001b[90m━━━━━━━━━━━━━━━━━━━━━━━━━━━━━━━━━━━━━━━━\u001b[0m \u001b[32m135.8/135.8 kB\u001b[0m \u001b[31m13.2 MB/s\u001b[0m eta \u001b[36m0:00:00\u001b[0m\n",
            "\u001b[?25hRequirement already satisfied: click in /usr/local/lib/python3.10/dist-packages (from deeplake) (8.1.7)\n",
            "Collecting pathos (from deeplake)\n",
            "  Downloading pathos-0.3.1-py3-none-any.whl (82 kB)\n",
            "\u001b[2K     \u001b[90m━━━━━━━━━━━━━━━━━━━━━━━━━━━━━━━━━━━━━━━━\u001b[0m \u001b[32m82.1/82.1 kB\u001b[0m \u001b[31m7.3 MB/s\u001b[0m eta \u001b[36m0:00:00\u001b[0m\n",
            "\u001b[?25hCollecting humbug>=0.3.1 (from deeplake)\n",
            "  Downloading humbug-0.3.2-py3-none-any.whl (15 kB)\n",
            "Requirement already satisfied: tqdm in /usr/local/lib/python3.10/dist-packages (from deeplake) (4.66.1)\n",
            "Collecting lz4 (from deeplake)\n",
            "  Downloading lz4-4.3.2-cp310-cp310-manylinux_2_17_x86_64.manylinux2014_x86_64.whl (1.3 MB)\n",
            "\u001b[2K     \u001b[90m━━━━━━━━━━━━━━━━━━━━━━━━━━━━━━━━━━━━━━━━\u001b[0m \u001b[32m1.3/1.3 MB\u001b[0m \u001b[31m34.6 MB/s\u001b[0m eta \u001b[36m0:00:00\u001b[0m\n",
            "\u001b[?25hRequirement already satisfied: pyjwt in /usr/lib/python3/dist-packages (from deeplake) (2.3.0)\n",
            "Collecting libdeeplake==0.0.84 (from deeplake)\n",
            "  Downloading libdeeplake-0.0.84-cp310-cp310-manylinux2014_x86_64.whl (16.2 MB)\n",
            "\u001b[2K     \u001b[90m━━━━━━━━━━━━━━━━━━━━━━━━━━━━━━━━━━━━━━━━\u001b[0m \u001b[32m16.2/16.2 MB\u001b[0m \u001b[31m72.3 MB/s\u001b[0m eta \u001b[36m0:00:00\u001b[0m\n",
            "\u001b[?25hCollecting aioboto3>=10.4.0 (from deeplake)\n",
            "  Downloading aioboto3-12.0.0-py3-none-any.whl (32 kB)\n",
            "Requirement already satisfied: nest-asyncio in /usr/local/lib/python3.10/dist-packages (from deeplake) (1.5.8)\n",
            "Collecting dill (from libdeeplake==0.0.84->deeplake)\n",
            "  Downloading dill-0.3.7-py3-none-any.whl (115 kB)\n",
            "\u001b[2K     \u001b[90m━━━━━━━━━━━━━━━━━━━━━━━━━━━━━━━━━━━━━━━━\u001b[0m \u001b[32m115.3/115.3 kB\u001b[0m \u001b[31m11.5 MB/s\u001b[0m eta \u001b[36m0:00:00\u001b[0m\n",
            "\u001b[?25hCollecting aiobotocore[boto3]==2.7.0 (from aioboto3>=10.4.0->deeplake)\n",
            "  Downloading aiobotocore-2.7.0-py3-none-any.whl (73 kB)\n",
            "\u001b[2K     \u001b[90m━━━━━━━━━━━━━━━━━━━━━━━━━━━━━━━━━━━━━━━━\u001b[0m \u001b[32m73.5/73.5 kB\u001b[0m \u001b[31m8.4 MB/s\u001b[0m eta \u001b[36m0:00:00\u001b[0m\n",
            "\u001b[?25hCollecting botocore<1.31.65,>=1.31.16 (from aiobotocore[boto3]==2.7.0->aioboto3>=10.4.0->deeplake)\n",
            "  Downloading botocore-1.31.64-py3-none-any.whl (11.3 MB)\n",
            "\u001b[2K     \u001b[90m━━━━━━━━━━━━━━━━━━━━━━━━━━━━━━━━━━━━━━━━\u001b[0m \u001b[32m11.3/11.3 MB\u001b[0m \u001b[31m74.5 MB/s\u001b[0m eta \u001b[36m0:00:00\u001b[0m\n",
            "\u001b[?25hRequirement already satisfied: aiohttp<4.0.0,>=3.7.4.post0 in /usr/local/lib/python3.10/dist-packages (from aiobotocore[boto3]==2.7.0->aioboto3>=10.4.0->deeplake) (3.8.6)\n",
            "Requirement already satisfied: wrapt<2.0.0,>=1.10.10 in /usr/local/lib/python3.10/dist-packages (from aiobotocore[boto3]==2.7.0->aioboto3>=10.4.0->deeplake) (1.14.1)\n",
            "Collecting aioitertools<1.0.0,>=0.5.1 (from aiobotocore[boto3]==2.7.0->aioboto3>=10.4.0->deeplake)\n",
            "  Downloading aioitertools-0.11.0-py3-none-any.whl (23 kB)\n",
            "Collecting boto3 (from deeplake)\n",
            "  Downloading boto3-1.28.64-py3-none-any.whl (135 kB)\n",
            "\u001b[2K     \u001b[90m━━━━━━━━━━━━━━━━━━━━━━━━━━━━━━━━━━━━━━━━\u001b[0m \u001b[32m135.8/135.8 kB\u001b[0m \u001b[31m14.7 MB/s\u001b[0m eta \u001b[36m0:00:00\u001b[0m\n",
            "\u001b[?25hCollecting jmespath<2.0.0,>=0.7.1 (from boto3->deeplake)\n",
            "  Downloading jmespath-1.0.1-py3-none-any.whl (20 kB)\n",
            "Collecting s3transfer<0.8.0,>=0.7.0 (from boto3->deeplake)\n",
            "  Downloading s3transfer-0.7.0-py3-none-any.whl (79 kB)\n",
            "\u001b[2K     \u001b[90m━━━━━━━━━━━━━━━━━━━━━━━━━━━━━━━━━━━━━━━━\u001b[0m \u001b[32m79.8/79.8 kB\u001b[0m \u001b[31m9.6 MB/s\u001b[0m eta \u001b[36m0:00:00\u001b[0m\n",
            "\u001b[?25hRequirement already satisfied: requests in /usr/local/lib/python3.10/dist-packages (from humbug>=0.3.1->deeplake) (2.31.0)\n",
            "Collecting ppft>=1.7.6.7 (from pathos->deeplake)\n",
            "  Downloading ppft-1.7.6.7-py3-none-any.whl (56 kB)\n",
            "\u001b[2K     \u001b[90m━━━━━━━━━━━━━━━━━━━━━━━━━━━━━━━━━━━━━━━━\u001b[0m \u001b[32m56.8/56.8 kB\u001b[0m \u001b[31m6.5 MB/s\u001b[0m eta \u001b[36m0:00:00\u001b[0m\n",
            "\u001b[?25hCollecting pox>=0.3.3 (from pathos->deeplake)\n",
            "  Downloading pox-0.3.3-py3-none-any.whl (29 kB)\n",
            "Collecting multiprocess>=0.70.15 (from pathos->deeplake)\n",
            "  Downloading multiprocess-0.70.15-py310-none-any.whl (134 kB)\n",
            "\u001b[2K     \u001b[90m━━━━━━━━━━━━━━━━━━━━━━━━━━━━━━━━━━━━━━━━\u001b[0m \u001b[32m134.8/134.8 kB\u001b[0m \u001b[31m15.3 MB/s\u001b[0m eta \u001b[36m0:00:00\u001b[0m\n",
            "\u001b[?25hRequirement already satisfied: python-dateutil<3.0.0,>=2.1 in /usr/local/lib/python3.10/dist-packages (from botocore<1.31.65,>=1.31.16->aiobotocore[boto3]==2.7.0->aioboto3>=10.4.0->deeplake) (2.8.2)\n",
            "Requirement already satisfied: urllib3<2.1,>=1.25.4 in /usr/local/lib/python3.10/dist-packages (from botocore<1.31.65,>=1.31.16->aiobotocore[boto3]==2.7.0->aioboto3>=10.4.0->deeplake) (2.0.7)\n",
            "Requirement already satisfied: charset-normalizer<4,>=2 in /usr/local/lib/python3.10/dist-packages (from requests->humbug>=0.3.1->deeplake) (3.3.2)\n",
            "Requirement already satisfied: idna<4,>=2.5 in /usr/local/lib/python3.10/dist-packages (from requests->humbug>=0.3.1->deeplake) (3.4)\n",
            "Requirement already satisfied: certifi>=2017.4.17 in /usr/local/lib/python3.10/dist-packages (from requests->humbug>=0.3.1->deeplake) (2023.7.22)\n",
            "Requirement already satisfied: attrs>=17.3.0 in /usr/local/lib/python3.10/dist-packages (from aiohttp<4.0.0,>=3.7.4.post0->aiobotocore[boto3]==2.7.0->aioboto3>=10.4.0->deeplake) (23.1.0)\n",
            "Requirement already satisfied: multidict<7.0,>=4.5 in /usr/local/lib/python3.10/dist-packages (from aiohttp<4.0.0,>=3.7.4.post0->aiobotocore[boto3]==2.7.0->aioboto3>=10.4.0->deeplake) (6.0.4)\n",
            "Requirement already satisfied: async-timeout<5.0,>=4.0.0a3 in /usr/local/lib/python3.10/dist-packages (from aiohttp<4.0.0,>=3.7.4.post0->aiobotocore[boto3]==2.7.0->aioboto3>=10.4.0->deeplake) (4.0.3)\n",
            "Requirement already satisfied: yarl<2.0,>=1.0 in /usr/local/lib/python3.10/dist-packages (from aiohttp<4.0.0,>=3.7.4.post0->aiobotocore[boto3]==2.7.0->aioboto3>=10.4.0->deeplake) (1.9.2)\n",
            "Requirement already satisfied: frozenlist>=1.1.1 in /usr/local/lib/python3.10/dist-packages (from aiohttp<4.0.0,>=3.7.4.post0->aiobotocore[boto3]==2.7.0->aioboto3>=10.4.0->deeplake) (1.4.0)\n",
            "Requirement already satisfied: aiosignal>=1.1.2 in /usr/local/lib/python3.10/dist-packages (from aiohttp<4.0.0,>=3.7.4.post0->aiobotocore[boto3]==2.7.0->aioboto3>=10.4.0->deeplake) (1.3.1)\n",
            "Requirement already satisfied: six>=1.5 in /usr/local/lib/python3.10/dist-packages (from python-dateutil<3.0.0,>=2.1->botocore<1.31.65,>=1.31.16->aiobotocore[boto3]==2.7.0->aioboto3>=10.4.0->deeplake) (1.16.0)\n",
            "Building wheels for collected packages: deeplake\n",
            "  Building wheel for deeplake (pyproject.toml) ... \u001b[?25l\u001b[?25hdone\n",
            "  Created wheel for deeplake: filename=deeplake-3.8.4-py3-none-any.whl size=692619 sha256=45c1e550271035b874da23146111bbe36a4e65af62d17a943fbd428eea036220\n",
            "  Stored in directory: /root/.cache/pip/wheels/cd/98/5b/4dc5fa7ab3e6446fc37b0dd644673c73ce8bafcb16820e0b5a\n",
            "Successfully built deeplake\n",
            "Installing collected packages: ppft, pox, lz4, jmespath, dill, aioitertools, multiprocess, libdeeplake, humbug, botocore, s3transfer, pathos, aiobotocore, boto3, aioboto3, deeplake\n",
            "Successfully installed aioboto3-12.0.0 aiobotocore-2.7.0 aioitertools-0.11.0 boto3-1.28.64 botocore-1.31.64 deeplake-3.8.4 dill-0.3.7 humbug-0.3.2 jmespath-1.0.1 libdeeplake-0.0.84 lz4-4.3.2 multiprocess-0.70.15 pathos-0.3.1 pox-0.3.3 ppft-1.7.6.7 s3transfer-0.7.0\n",
            "Requirement already satisfied: deeplake[av] in /usr/local/lib/python3.10/dist-packages (3.8.4)\n",
            "Requirement already satisfied: numpy in /usr/local/lib/python3.10/dist-packages (from deeplake[av]) (1.23.5)\n",
            "Requirement already satisfied: pillow in /usr/local/lib/python3.10/dist-packages (from deeplake[av]) (9.4.0)\n",
            "Requirement already satisfied: boto3 in /usr/local/lib/python3.10/dist-packages (from deeplake[av]) (1.28.64)\n",
            "Requirement already satisfied: click in /usr/local/lib/python3.10/dist-packages (from deeplake[av]) (8.1.7)\n",
            "Requirement already satisfied: pathos in /usr/local/lib/python3.10/dist-packages (from deeplake[av]) (0.3.1)\n",
            "Requirement already satisfied: humbug>=0.3.1 in /usr/local/lib/python3.10/dist-packages (from deeplake[av]) (0.3.2)\n",
            "Requirement already satisfied: tqdm in /usr/local/lib/python3.10/dist-packages (from deeplake[av]) (4.66.1)\n",
            "Requirement already satisfied: lz4 in /usr/local/lib/python3.10/dist-packages (from deeplake[av]) (4.3.2)\n",
            "Requirement already satisfied: pyjwt in /usr/lib/python3/dist-packages (from deeplake[av]) (2.3.0)\n",
            "Requirement already satisfied: libdeeplake==0.0.84 in /usr/local/lib/python3.10/dist-packages (from deeplake[av]) (0.0.84)\n",
            "Requirement already satisfied: aioboto3>=10.4.0 in /usr/local/lib/python3.10/dist-packages (from deeplake[av]) (12.0.0)\n",
            "Requirement already satisfied: nest-asyncio in /usr/local/lib/python3.10/dist-packages (from deeplake[av]) (1.5.8)\n",
            "Collecting av>=8.1.0 (from deeplake[av])\n",
            "  Downloading av-10.0.0-cp310-cp310-manylinux_2_17_x86_64.manylinux2014_x86_64.whl (31.0 MB)\n",
            "\u001b[2K     \u001b[90m━━━━━━━━━━━━━━━━━━━━━━━━━━━━━━━━━━━━━━━━\u001b[0m \u001b[32m31.0/31.0 MB\u001b[0m \u001b[31m41.5 MB/s\u001b[0m eta \u001b[36m0:00:00\u001b[0m\n",
            "\u001b[?25hRequirement already satisfied: dill in /usr/local/lib/python3.10/dist-packages (from libdeeplake==0.0.84->deeplake[av]) (0.3.7)\n",
            "Requirement already satisfied: aiobotocore[boto3]==2.7.0 in /usr/local/lib/python3.10/dist-packages (from aioboto3>=10.4.0->deeplake[av]) (2.7.0)\n",
            "Requirement already satisfied: botocore<1.31.65,>=1.31.16 in /usr/local/lib/python3.10/dist-packages (from aiobotocore[boto3]==2.7.0->aioboto3>=10.4.0->deeplake[av]) (1.31.64)\n",
            "Requirement already satisfied: aiohttp<4.0.0,>=3.7.4.post0 in /usr/local/lib/python3.10/dist-packages (from aiobotocore[boto3]==2.7.0->aioboto3>=10.4.0->deeplake[av]) (3.8.6)\n",
            "Requirement already satisfied: wrapt<2.0.0,>=1.10.10 in /usr/local/lib/python3.10/dist-packages (from aiobotocore[boto3]==2.7.0->aioboto3>=10.4.0->deeplake[av]) (1.14.1)\n",
            "Requirement already satisfied: aioitertools<1.0.0,>=0.5.1 in /usr/local/lib/python3.10/dist-packages (from aiobotocore[boto3]==2.7.0->aioboto3>=10.4.0->deeplake[av]) (0.11.0)\n",
            "Requirement already satisfied: jmespath<2.0.0,>=0.7.1 in /usr/local/lib/python3.10/dist-packages (from boto3->deeplake[av]) (1.0.1)\n",
            "Requirement already satisfied: s3transfer<0.8.0,>=0.7.0 in /usr/local/lib/python3.10/dist-packages (from boto3->deeplake[av]) (0.7.0)\n",
            "Requirement already satisfied: requests in /usr/local/lib/python3.10/dist-packages (from humbug>=0.3.1->deeplake[av]) (2.31.0)\n",
            "Requirement already satisfied: ppft>=1.7.6.7 in /usr/local/lib/python3.10/dist-packages (from pathos->deeplake[av]) (1.7.6.7)\n",
            "Requirement already satisfied: pox>=0.3.3 in /usr/local/lib/python3.10/dist-packages (from pathos->deeplake[av]) (0.3.3)\n",
            "Requirement already satisfied: multiprocess>=0.70.15 in /usr/local/lib/python3.10/dist-packages (from pathos->deeplake[av]) (0.70.15)\n",
            "Requirement already satisfied: python-dateutil<3.0.0,>=2.1 in /usr/local/lib/python3.10/dist-packages (from botocore<1.31.65,>=1.31.16->aiobotocore[boto3]==2.7.0->aioboto3>=10.4.0->deeplake[av]) (2.8.2)\n",
            "Requirement already satisfied: urllib3<2.1,>=1.25.4 in /usr/local/lib/python3.10/dist-packages (from botocore<1.31.65,>=1.31.16->aiobotocore[boto3]==2.7.0->aioboto3>=10.4.0->deeplake[av]) (2.0.7)\n",
            "Requirement already satisfied: charset-normalizer<4,>=2 in /usr/local/lib/python3.10/dist-packages (from requests->humbug>=0.3.1->deeplake[av]) (3.3.2)\n",
            "Requirement already satisfied: idna<4,>=2.5 in /usr/local/lib/python3.10/dist-packages (from requests->humbug>=0.3.1->deeplake[av]) (3.4)\n",
            "Requirement already satisfied: certifi>=2017.4.17 in /usr/local/lib/python3.10/dist-packages (from requests->humbug>=0.3.1->deeplake[av]) (2023.7.22)\n",
            "Requirement already satisfied: attrs>=17.3.0 in /usr/local/lib/python3.10/dist-packages (from aiohttp<4.0.0,>=3.7.4.post0->aiobotocore[boto3]==2.7.0->aioboto3>=10.4.0->deeplake[av]) (23.1.0)\n",
            "Requirement already satisfied: multidict<7.0,>=4.5 in /usr/local/lib/python3.10/dist-packages (from aiohttp<4.0.0,>=3.7.4.post0->aiobotocore[boto3]==2.7.0->aioboto3>=10.4.0->deeplake[av]) (6.0.4)\n",
            "Requirement already satisfied: async-timeout<5.0,>=4.0.0a3 in /usr/local/lib/python3.10/dist-packages (from aiohttp<4.0.0,>=3.7.4.post0->aiobotocore[boto3]==2.7.0->aioboto3>=10.4.0->deeplake[av]) (4.0.3)\n",
            "Requirement already satisfied: yarl<2.0,>=1.0 in /usr/local/lib/python3.10/dist-packages (from aiohttp<4.0.0,>=3.7.4.post0->aiobotocore[boto3]==2.7.0->aioboto3>=10.4.0->deeplake[av]) (1.9.2)\n",
            "Requirement already satisfied: frozenlist>=1.1.1 in /usr/local/lib/python3.10/dist-packages (from aiohttp<4.0.0,>=3.7.4.post0->aiobotocore[boto3]==2.7.0->aioboto3>=10.4.0->deeplake[av]) (1.4.0)\n",
            "Requirement already satisfied: aiosignal>=1.1.2 in /usr/local/lib/python3.10/dist-packages (from aiohttp<4.0.0,>=3.7.4.post0->aiobotocore[boto3]==2.7.0->aioboto3>=10.4.0->deeplake[av]) (1.3.1)\n",
            "Requirement already satisfied: six>=1.5 in /usr/local/lib/python3.10/dist-packages (from python-dateutil<3.0.0,>=2.1->botocore<1.31.65,>=1.31.16->aiobotocore[boto3]==2.7.0->aioboto3>=10.4.0->deeplake[av]) (1.16.0)\n",
            "Installing collected packages: av\n",
            "Successfully installed av-10.0.0\n",
            "Collecting sklearn\n",
            "  Downloading sklearn-0.0.post11.tar.gz (3.6 kB)\n",
            "  \u001b[1;31merror\u001b[0m: \u001b[1msubprocess-exited-with-error\u001b[0m\n",
            "  \n",
            "  \u001b[31m×\u001b[0m \u001b[32mpython setup.py egg_info\u001b[0m did not run successfully.\n",
            "  \u001b[31m│\u001b[0m exit code: \u001b[1;36m1\u001b[0m\n",
            "  \u001b[31m╰─>\u001b[0m See above for output.\n",
            "  \n",
            "  \u001b[1;35mnote\u001b[0m: This error originates from a subprocess, and is likely not a problem with pip.\n",
            "  Preparing metadata (setup.py) ... \u001b[?25l\u001b[?25herror\n",
            "\u001b[1;31merror\u001b[0m: \u001b[1mmetadata-generation-failed\u001b[0m\n",
            "\n",
            "\u001b[31m×\u001b[0m Encountered error while generating package metadata.\n",
            "\u001b[31m╰─>\u001b[0m See above for output.\n",
            "\n",
            "\u001b[1;35mnote\u001b[0m: This is an issue with the package mentioned above, not pip.\n",
            "\u001b[1;36mhint\u001b[0m: See above for details.\n"
          ]
        }
      ],
      "source": [
        "import os\n",
        "import librosa\n",
        "import numpy as np\n",
        "import matplotlib.pyplot as plt\n",
        "# import other libraries\n",
        "!pip install deeplake\n",
        "!pip install \"deeplake[av]\"\n",
        "import deeplake\n",
        "!pip install sklearn\n",
        "import sklearn\n",
        "from tqdm import tqdm"
      ]
    },
    {
      "cell_type": "markdown",
      "id": "f17a7c50",
      "metadata": {
        "id": "f17a7c50"
      },
      "source": [
        "## Question 1"
      ]
    },
    {
      "cell_type": "code",
      "execution_count": 2,
      "id": "73a2cb00",
      "metadata": {
        "colab": {
          "base_uri": "https://localhost:8080/"
        },
        "id": "73a2cb00",
        "outputId": "77997a03-eead-49de-c7be-1bc3704c053b"
      },
      "outputs": [
        {
          "output_type": "stream",
          "name": "stderr",
          "text": [
            "-"
          ]
        },
        {
          "output_type": "stream",
          "name": "stdout",
          "text": [
            "Opening dataset in read-only mode as you don't have write permissions.\n"
          ]
        },
        {
          "output_type": "stream",
          "name": "stderr",
          "text": [
            "|"
          ]
        },
        {
          "output_type": "stream",
          "name": "stdout",
          "text": [
            "This dataset can be visualized in Jupyter Notebook by ds.visualize() or at https://app.activeloop.ai/activeloop/gtzan-genre\n",
            "\n"
          ]
        },
        {
          "output_type": "stream",
          "name": "stderr",
          "text": [
            "-"
          ]
        },
        {
          "output_type": "stream",
          "name": "stdout",
          "text": [
            "hub://activeloop/gtzan-genre loaded successfully.\n",
            "\n",
            "Dataset(path='hub://activeloop/gtzan-genre', read_only=True, tensors=['audio', 'genre'])\n",
            "\n",
            " tensor      htype              shape             dtype  compression\n",
            " -------    -------            -------           -------  ------- \n",
            "  audio      audio     (1000, 660000:675808, 1)   None      wav   \n",
            "  genre   class_label         (1000, 1)          uint32    None   \n"
          ]
        },
        {
          "output_type": "stream",
          "name": "stderr",
          "text": [
            "\r \r\r\r"
          ]
        }
      ],
      "source": [
        "# Import dataset\n",
        "ds = deeplake.load(\"hub://activeloop/gtzan-genre\")\n",
        "\n",
        "# 16 bit, 22050 Hz, with 352'800 bit/s\n",
        "ds.summary()"
      ]
    },
    {
      "cell_type": "code",
      "execution_count": 19,
      "id": "cf877ba9",
      "metadata": {
        "scrolled": false,
        "colab": {
          "base_uri": "https://localhost:8080/"
        },
        "id": "cf877ba9",
        "outputId": "63ac8dac-cbf6-4565-9995-119917bb36f6"
      },
      "outputs": [
        {
          "output_type": "stream",
          "name": "stderr",
          "text": [
            "/usr/local/lib/python3.10/dist-packages/deeplake/core/tensor.py:704: UserWarning: Indexing by integer in a for loop, like `for i in range(len(ds)): ... ds.tensor[i]` can be quite slow. Use `for i, sample in enumerate(ds)` instead.\n",
            "  warnings.warn(\n"
          ]
        },
        {
          "output_type": "stream",
          "name": "stdout",
          "text": [
            "(100, 1)\n",
            "(20, 1)\n",
            "(100, 639450)\n",
            "(20, 639450)\n"
          ]
        }
      ],
      "source": [
        "Fs = 22050\n",
        "n_samples = 29 * Fs # duration in samples\n",
        "\n",
        "# Define downsampling factors\n",
        "sub_train = 10\n",
        "sub_test = 50\n",
        "\n",
        "# Extract classes\n",
        "genre_names = ['pop', 'metal', 'classical', 'rock', 'blues', 'jazz', 'hiphop', 'reggae', 'disco', 'country']\n",
        "\n",
        "# Indexes\n",
        "i_train = np.arange(0, len(ds),sub_train)\n",
        "i_test = np.arange(0, len(ds),sub_test)\n",
        "\n",
        "genre_train = [ds.genre[int(i)].numpy() for i in i_train]\n",
        "genre_test = [ds.genre[int(i)].numpy() for i in i_test]\n",
        "print(np.shape(genre_train))\n",
        "print(np.shape(genre_test))\n",
        "\n",
        "# Extract training set\n",
        "#for i in tqdm(range(100)):\n",
        "audio_train_list = [ds.audio[int(i)].numpy(aslist = True) for i in i_train]\n",
        "new_audio_train = np.array([])\n",
        "for i in range(len(audio_train_list)):\n",
        "  audio_train_list[i] = audio_train_list[i][:n_samples]\n",
        "  new_audio_train = np.append(new_audio_train, audio_train_list[i])\n",
        "# as we append the elements, the array will be 1 dimensional, we will reshape\n",
        "# the array to be 2 dimensional, and we know that the number of elements of the\n",
        "# train is the length of i_train\n",
        "num_elements_train = len(i_train)\n",
        "audio_train = new_audio_train[:num_elements_train * n_samples].reshape(-1, n_samples)\n",
        "\n",
        "print(np.shape(audio_train))\n",
        "\n",
        "# Extract test set\n",
        "#for i in tqdm(range(100)):\n",
        "audio_test_list = [ds.audio[int(i)].numpy(aslist = True) for i in i_test]\n",
        "new_audio_test = np.array([])\n",
        "for i in range(len(audio_test_list)):\n",
        "  audio_test_list[i] = audio_test_list[i][:n_samples]\n",
        "  new_audio_test = np.append(new_audio_test, audio_test_list[i])\n",
        "# as we append the elements, the array will be 1 dimensional, we will reshape\n",
        "# the array to be 2 dimensional, and we know that the number of elements of the\n",
        "# train is the length of i_test\n",
        "num_elements_test = len(i_test)\n",
        "audio_test = new_audio_test[:num_elements_test * n_samples].reshape(-1, n_samples)\n",
        "\n",
        "print(np.shape(audio_test))"
      ]
    },
    {
      "cell_type": "code",
      "execution_count": 20,
      "id": "cb7f0e9b",
      "metadata": {
        "colab": {
          "base_uri": "https://localhost:8080/",
          "height": 256
        },
        "id": "cb7f0e9b",
        "outputId": "abd4e297-5869-45c9-b5e7-2c7164a7f11e"
      },
      "outputs": [
        {
          "output_type": "display_data",
          "data": {
            "text/plain": [
              "<Figure size 800x200 with 1 Axes>"
            ],
            "image/png": "[encoded data removed]"
          },
          "metadata": {}
        }
      ],
      "source": [
        "# Plot the first wav in the train set\n",
        "plt.figure(figsize=(8, 2))\n",
        "plt.title('First wav in train set')\n",
        "plt.xlabel('Time (seconds)')\n",
        "plt.plot(audio_train[0])\n",
        "plt.show()"
      ]
    },
    {
      "cell_type": "markdown",
      "id": "e3685c21",
      "metadata": {
        "id": "e3685c21"
      },
      "source": [
        "## Question 2"
      ]
    },
    {
      "cell_type": "code",
      "execution_count": 29,
      "id": "618ab118",
      "metadata": {
        "id": "618ab118"
      },
      "outputs": [],
      "source": [
        "# Preprocessing\n",
        "#def MinMaxScaler(x, feature_range=(-1, 1)):\n",
        "#  max_value = max(abs(x))\n",
        "#  return x/max_value\n",
        "# ho definito anche questa qua in caso il range non è per forza da -1 a 1\n",
        "#def MinMaxScaler2(x, feature_range=(-1, 1)):\n",
        "#  range = (feature_range[1] - feature_range[0])/2\n",
        "#  translate = (feature_range[1] + feature_range[0])/2\n",
        "#  max_value = max(abs(x))\n",
        "#  x_scaled = x*range/max_value\n",
        "#  return x_scaled+translate\n",
        "from sklearn.preprocessing import MinMaxScaler\n",
        "#for i in np.arange(audio_train.shape[0]):\n",
        "#  audio_train[i] = MinMaxScaler(audio_train[i])\n",
        "scaler = MinMaxScaler(feature_range=(-1, 1))\n",
        "#       scaler.fit(audio_train)\n",
        "audio_train = scaler.fit_transform(audio_train)\n",
        "#for i in np.arange(audio_test.shape[0]):\n",
        "#  audio_test[i] = sklearn.MinMaxScaler(audio_test[i])\n",
        "scaler2 = MinMaxScaler(feature_range=(-1, 1))\n",
        "#       scaler2.fit(audio_test)\n",
        "audio_test = scaler2.fit_transform(audio_test)"
      ]
    },
    {
      "cell_type": "code",
      "execution_count": 30,
      "id": "5450ba9d",
      "metadata": {
        "id": "5450ba9d",
        "colab": {
          "base_uri": "https://localhost:8080/",
          "height": 256
        },
        "outputId": "36a0e941-1c83-4b81-9935-a88bde194c58"
      },
      "outputs": [
        {
          "output_type": "display_data",
          "data": {
            "text/plain": [
              "<Figure size 800x200 with 1 Axes>"
            ],
            "image/png": "[encoded data removed]"
          },
          "metadata": {}
        }
      ],
      "source": [
        "# Plot the first wav in the train set after preprocessing\n",
        "plt.figure(figsize=(8, 2))\n",
        "plt.title('First wav in train set')\n",
        "plt.xlabel('Time (seconds)')\n",
        "plt.plot(audio_train[0])\n",
        "plt.show()"
      ]
    },
    {
      "cell_type": "code",
      "execution_count": 33,
      "id": "1c53044c",
      "metadata": {
        "id": "1c53044c"
      },
      "outputs": [],
      "source": [
        "# Compute local average\n",
        "def compute_local_average(x, M):\n",
        "    \"\"\"Compute local average of signal\n",
        "\n",
        "    Args:\n",
        "        x: Signal\n",
        "        M: Total length in samples of centric window  used for local average\n",
        "\n",
        "    Returns:\n",
        "        local_average: Local average signal\n",
        "    \"\"\"\n",
        "\n",
        "    L = len(x)\n",
        "\n",
        "    local_average = np.zeros(L)\n",
        "\n",
        "    for n in range(L):\n",
        "        a = max(n - M, 0)\n",
        "        b = min(n + M + 1, L)\n",
        "        local_average[n] = np.sum(x[a:b]) * (1 / (2*M + 1))\n",
        "    return local_average\n",
        "\n",
        "# Compute the principal argument\n",
        "def principal_argument(x):\n",
        "    \"\"\"Principal argument function\n",
        "\n",
        "    Args:\n",
        "        x: value (or vector of values)\n",
        "\n",
        "    Returns:\n",
        "        y: Principal value of x\n",
        "    \"\"\"\n",
        "\n",
        "    y = np.mod(x + 0.5, 1) - 0.5\n",
        "    return y\n",
        "\n",
        "# Compute the Phase-Based Novelty function\n",
        "def compute_phase_novelty(x, Fs=1, N=1024, H=64, M=40, norm=True, plot=False):\n",
        "    \"\"\"Compute phase-based novelty function\n",
        "\n",
        "    Args:\n",
        "        x: Signal\n",
        "        Fs: Sampling rate\n",
        "        N: Window size\n",
        "        H: Hop size\n",
        "        M: Total length in samples of centric window  used for local average\n",
        "        norm: Apply max norm (if norm==True)\n",
        "        plot: plot novelty (if plot==True)\n",
        "\n",
        "    Returns:\n",
        "        nov: Phase-based novelty function\n",
        "        Fs_nov: Novelty rate\n",
        "    \"\"\"\n",
        "\n",
        "    # Compute the STFT\n",
        "    X = librosa.stft(x, n_fft=N, hop_length=H, win_length=N, window='hann')\n",
        "    # Compute the novelty rate\n",
        "    Fs_nov = Fs/H\n",
        "\n",
        "    # Extract the phase and use principal_argument\n",
        "    phase = np.angle(X)/(2*np.pi)\n",
        "    # first derivative\n",
        "    phase_d_1 = principal_argument(np.diff(phase, axis=1))\n",
        "    # second derivative\n",
        "    phase_d_2 = principal_argument(np.diff(phase_d_1, axis=1))\n",
        "    # Accumulation over frequency axis\n",
        "\n",
        "    nov = np.sum(np.abs(phase_d_2), axis=0)\n",
        "    #nov = np.sum(phase_d_2, axis=0)\n",
        "    nov = np.concatenate((nov, np.array([0, 0])))\n",
        "    # Local average subtraction and half-wave rectification\n",
        "    if M > 0:\n",
        "      local_average = compute_local_average(nov, M)\n",
        "      nov = nov - local_average\n",
        "\n",
        "    nov[nov < 0] = 0\n",
        "    # nov = np.concatenate((nov, np.array([0, 0])))\n",
        "    # Normalization\n",
        "    if norm:\n",
        "      max_value = np.max(nov)\n",
        "      if max_value > 0:\n",
        "          nov = nov / max_value\n",
        "\n",
        "    # Plot\n",
        "    if plot:\n",
        "      plt.figure(figsize=(12, 4))\n",
        "      real_t = np.arange(len(nov)) / Fs_nov\n",
        "      plt.title('First wav novelty')\n",
        "      plt.xlabel('Time (seconds)')\n",
        "      plt.plot(real_t, nov)\n",
        "      plt.show()\n",
        "\n",
        "    return nov, Fs_nov"
      ]
    },
    {
      "cell_type": "code",
      "execution_count": 35,
      "id": "a15b9d78",
      "metadata": {
        "id": "a15b9d78",
        "colab": {
          "base_uri": "https://localhost:8080/",
          "height": 410
        },
        "outputId": "f07e6c38-b766-4605-d3af-dc517310cfb7"
      },
      "outputs": [
        {
          "output_type": "display_data",
          "data": {
            "text/plain": [
              "<Figure size 1200x400 with 1 Axes>"
            ],
            "image/png": "[encoded data removed]"
          },
          "metadata": {}
        }
      ],
      "source": [
        "# Test the novelty function on the first wav in the train set\n",
        "# The hop size cna change the sensitivity on phase changes\n",
        "nov, Fs_nov = compute_phase_novelty(audio_train[0], Fs=22050, N=1024, H=64, M=40, norm=True, plot=True)"
      ]
    },
    {
      "cell_type": "markdown",
      "id": "e9a6328b",
      "metadata": {
        "id": "e9a6328b"
      },
      "source": [
        "## Question 3"
      ]
    },
    {
      "cell_type": "code",
      "execution_count": null,
      "id": "b1c4efe0",
      "metadata": {
        "id": "b1c4efe0"
      },
      "outputs": [],
      "source": [
        "def compute_feature_vector(x, Fs, N=2048, H=128):\n",
        "    \"\"\"Compute the feature vector\n",
        "\n",
        "    Args:\n",
        "        x: Input signal\n",
        "        Fs: Sampling rate\n",
        "        N: Window length\n",
        "        H: Hop size\n",
        "\n",
        "    Returns:\n",
        "        f_vector: Feature vector\n",
        "    \"\"\"\n",
        "\n",
        "    # Compute rhythmic features\n",
        "\n",
        "\n",
        "    # Concatenate numpy arrays\n",
        "\n",
        "\n",
        "\n",
        "    return f_vector"
      ]
    },
    {
      "cell_type": "code",
      "execution_count": null,
      "id": "de1e5668",
      "metadata": {
        "id": "de1e5668"
      },
      "outputs": [],
      "source": [
        "# Compute feature vector for all the audio files inside the training set\n",
        "N = 2048\n",
        "H = 128\n",
        "\n",
        "train_fvector = []\n",
        "\n",
        "...\n",
        "\n",
        "test_fvector = []\n",
        "\n",
        "..."
      ]
    },
    {
      "cell_type": "code",
      "execution_count": null,
      "id": "ffd8cef7",
      "metadata": {
        "id": "ffd8cef7"
      },
      "outputs": [],
      "source": [
        "# Check train_fvector and genre_train shapes\n",
        "\n"
      ]
    },
    {
      "cell_type": "markdown",
      "id": "3f2de72a",
      "metadata": {
        "id": "3f2de72a"
      },
      "source": [
        "## Question 4"
      ]
    },
    {
      "cell_type": "code",
      "execution_count": null,
      "id": "5270bab6",
      "metadata": {
        "id": "5270bab6"
      },
      "outputs": [],
      "source": [
        "# Define model parameters\n",
        "\n",
        "\n",
        "if not os.path.exists('my_model/'):\n",
        "    os.mkdir('my_model/')\n",
        "\n",
        "# Train SVC\n",
        "\n"
      ]
    },
    {
      "cell_type": "code",
      "execution_count": null,
      "id": "b5d113cd",
      "metadata": {
        "id": "b5d113cd"
      },
      "outputs": [],
      "source": [
        "# Print the accuracy on the training set\n",
        "\n"
      ]
    },
    {
      "cell_type": "markdown",
      "id": "b62d10de",
      "metadata": {
        "id": "b62d10de"
      },
      "source": [
        "## Question 5"
      ]
    },
    {
      "cell_type": "code",
      "execution_count": null,
      "id": "d00d9141",
      "metadata": {
        "id": "d00d9141"
      },
      "outputs": [],
      "source": [
        "# Classify the test set\n",
        "\n"
      ]
    },
    {
      "cell_type": "code",
      "execution_count": null,
      "id": "8d6d64e1",
      "metadata": {
        "id": "8d6d64e1"
      },
      "outputs": [],
      "source": [
        "# Print the accuracy\n",
        "\n",
        "\n",
        "# Plot the confusion matrix\n",
        "\n"
      ]
    }
  ],
  "metadata": {
    "kernelspec": {
      "display_name": "Python 3 (ipykernel)",
      "language": "python",
      "name": "python3"
    },
    "language_info": {
      "codemirror_mode": {
        "name": "ipython",
        "version": 3
      },
      "file_extension": ".py",
      "mimetype": "text/x-python",
      "name": "python",
      "nbconvert_exporter": "python",
      "pygments_lexer": "ipython3",
      "version": "3.8.18"
    },
    "colab": {
      "provenance": [],
      "include_colab_link": true
    }
  },
  "nbformat": 4,
  "nbformat_minor": 5
}